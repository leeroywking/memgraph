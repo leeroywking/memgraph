{
 "cells": [
  {
   "cell_type": "code",
   "execution_count": 1,
   "id": "795afc54-a6e0-4719-870b-e2b423a7f9a8",
   "metadata": {},
   "outputs": [
    {
     "name": "stdout",
     "output_type": "stream",
     "text": [
      "['1', '2']\n"
     ]
    }
   ],
   "source": [
    "import networkx as nx\n",
    "import matplotlib.pyplot as plt\n",
    "\n",
    "G = nx.Graph()\n",
    "G.add_nodes_from([('1', {'label': 'Person', 'name': 'John Doe', 'age': 40}),\n",
    "                  ('2', {'label': 'Person', 'name': 'Anna Doe', 'age': 35})])\n",
    "\n",
    "print(G.nodes)"
   ]
  },
  {
   "cell_type": "code",
   "execution_count": 2,
   "id": "0f2c1606-206f-4178-9262-0ea13b9b1a9a",
   "metadata": {},
   "outputs": [
    {
     "data": {
      "image/png": "[encoded data removed]",
      "text/plain": [
       "<Figure size 432x288 with 1 Axes>"
      ]
     },
     "metadata": {},
     "output_type": "display_data"
    }
   ],
   "source": [
    "pos = nx.spring_layout(G)\n",
    "\n",
    "nx.draw(G, pos)\n",
    "\n",
    "node_labels = nx.get_node_attributes(G, 'label')\n",
    "nx.draw_networkx_labels(G, pos, labels=node_labels)\n",
    "\n",
    "plt.show()"
   ]
  },
  {
   "cell_type": "code",
   "execution_count": null,
   "id": "4e910658-38b6-4406-9a46-b755affdbf14",
   "metadata": {},
   "outputs": [],
   "source": []
  }
 ],
 "metadata": {
  "kernelspec": {
   "display_name": "Python 3.8.2 64-bit",
   "language": "python",
   "name": "python38264bitae572f276ed645b8878531eba3eef477"
  },
  "language_info": {
   "codemirror_mode": {
    "name": "ipython",
    "version": 3
   },
   "file_extension": ".py",
   "mimetype": "text/x-python",
   "name": "python",
   "nbconvert_exporter": "python",
   "pygments_lexer": "ipython3",
   "version": "3.8.5"
  }
 },
 "nbformat": 4,
 "nbformat_minor": 5
}
